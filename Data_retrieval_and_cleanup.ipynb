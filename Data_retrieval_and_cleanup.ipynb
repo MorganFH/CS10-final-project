{
 "cells": [
  {
   "cell_type": "markdown",
   "metadata": {
    "colab_type": "text",
    "id": "npE3UcYFAkrM"
   },
   "source": [
    "# Collecting the relevant data and putting it all together\n",
    "This notebook goes through the process of retrieving the relevant data we need for our data story about profanity in music. In order to analyse profanity in music we want to gather the following information about as many songs as possible:\n",
    "\n",
    "*   Song name\n",
    "*   Artist name\n",
    "*   Song release year\n",
    "*   Song duration\n",
    "*   Number of words in the song\n",
    "*   Number of profane words in the song\n",
    "*   Song genre\n",
    "\n",
    "To do so, we will be using the [million song dataset](http://millionsongdataset.com/) by Thierry Bertin-Mahieux, Daniel P.W. Ellis, Brian Whitman, Paul Lamere from Columbia University and The Echo Nest. This dataset includes metadata about a million songs from the last century, up to 2011.\n",
    "\n"
   ]
  },
  {
   "cell_type": "code",
   "execution_count": null,
   "metadata": {
    "colab": {},
    "colab_type": "code",
    "id": "_5yToHgOpmMZ"
   },
   "outputs": [],
   "source": [
    "import sqlite3\n",
    "import os\n",
    "import pandas as pd\n",
    "import numpy as np"
   ]
  },
  {
   "cell_type": "markdown",
   "metadata": {
    "colab_type": "text",
    "id": "FGN3u8sjPVUf"
   },
   "source": [
    "## Getting song metadata from the original million song dataset\n",
    "Initially, we thought we had to access the entire 300GB dataset to gather song data about all one million songs. Thus, we initially used a subset of 10 000 songs (1.8GB) to develop the code below. Then, by chance we found that the million song dataset website also supplied a SQLite database file containing a limited number of fields for all one million songs, being just 712 MB in size.\n",
    "\n",
    "As we are only interested in a subset of the several fields supplied in the dataset, we will extract the relevant fields into a new dataset. Not all fields we are interested in are included in the original million song dataset (spefically lyric data and genre data is not included), so this information will be added using extensions to the dataset through joining of tables in later sections below."
   ]
  },
  {
   "cell_type": "markdown",
   "metadata": {
    "colab_type": "text",
    "id": "42qX3L2sALr1"
   },
   "source": [
    "### Downloading the data"
   ]
  },
  {
   "cell_type": "code",
   "execution_count": null,
   "metadata": {
    "colab": {
     "base_uri": "https://localhost:8080/",
     "height": 204
    },
    "colab_type": "code",
    "id": "wk35OUJF-vdb",
    "outputId": "32ff3af2-0081-4c27-d379-e3e7eb602194"
   },
   "outputs": [
    {
     "name": "stdout",
     "output_type": "stream",
     "text": [
      "--2020-04-24 10:39:23--  http://millionsongdataset.com/sites/default/files/AdditionalFiles/track_metadata.db\n",
      "Resolving millionsongdataset.com (millionsongdataset.com)... 173.231.209.32\n",
      "Connecting to millionsongdataset.com (millionsongdataset.com)|173.231.209.32|:80... connected.\n",
      "HTTP request sent, awaiting response... 200 OK\n",
      "Length: 746180608 (712M)\n",
      "Saving to: ‘track_metadata.db’\n",
      "\n",
      "track_metadata.db   100%[===================>] 711.61M  15.3MB/s    in 49s     \n",
      "\n",
      "2020-04-24 10:40:13 (14.6 MB/s) - ‘track_metadata.db’ saved [746180608/746180608]\n",
      "\n"
     ]
    }
   ],
   "source": [
    "!wget http://millionsongdataset.com/sites/default/files/AdditionalFiles/track_metadata.db"
   ]
  },
  {
   "cell_type": "markdown",
   "metadata": {
    "colab_type": "text",
    "id": "UyacnVj_oFaU"
   },
   "source": [
    "### Retrieving the relevant fields"
   ]
  },
  {
   "cell_type": "code",
   "execution_count": null,
   "metadata": {
    "colab": {},
    "colab_type": "code",
    "id": "I7gsjgwyByya"
   },
   "outputs": [],
   "source": [
    "conn = sqlite3.connect(\"/content/track_metadata.db\")"
   ]
  },
  {
   "cell_type": "code",
   "execution_count": null,
   "metadata": {
    "colab": {
     "base_uri": "https://localhost:8080/",
     "height": 122
    },
    "colab_type": "code",
    "id": "luFgn9Lr04o6",
    "outputId": "1b2ab782-e599-409b-b6c5-c2fbe46afbf4"
   },
   "outputs": [
    {
     "data": {
      "text/plain": [
       "[('table',\n",
       "  'songs',\n",
       "  'songs',\n",
       "  2,\n",
       "  'CREATE TABLE songs (track_id text PRIMARY KEY, title text, song_id text, release text, artist_id text, artist_mbid text, artist_name text, duration real, artist_familiarity real, artist_hotttnesss real, year int, track_7digitalid int, shs_perf int, shs_work int)')]"
      ]
     },
     "execution_count": 4,
     "metadata": {
      "tags": []
     },
     "output_type": "execute_result"
    }
   ],
   "source": [
    "# We execute this query to get a sense of how the database is laid out (table names, field names)\n",
    "res = conn.execute(\"SELECT * FROM sqlite_master WHERE type='table'\")\n",
    "res.fetchall()"
   ]
  },
  {
   "cell_type": "code",
   "execution_count": null,
   "metadata": {
    "colab": {
     "base_uri": "https://localhost:8080/",
     "height": 34
    },
    "colab_type": "code",
    "id": "TU6-dQGOFGY4",
    "outputId": "7dce46fe-7445-4b1d-9eeb-63800e2708db"
   },
   "outputs": [
    {
     "name": "stdout",
     "output_type": "stream",
     "text": [
      "found 1000000 rows\n"
     ]
    }
   ],
   "source": [
    "# build the SQL query to retrieve the desired columns\n",
    "columns = [\"track_id\", \"artist_name\", \"title\", \"year\", \"duration\"]\n",
    "query = f\"SELECT {', '.join(columns)} FROM songs\"\n",
    "\n",
    "# query the database\n",
    "res = conn.execute(query)\n",
    "selected_fields = res.fetchall()\n",
    "\n",
    "\n",
    "print(f\"found {len(selected_fields)} rows\")"
   ]
  },
  {
   "cell_type": "code",
   "execution_count": null,
   "metadata": {
    "colab": {
     "base_uri": "https://localhost:8080/",
     "height": 272
    },
    "colab_type": "code",
    "id": "kGDwNnmFNNh1",
    "outputId": "2b26f32b-d0c9-4882-fcab-a532e54afec5"
   },
   "outputs": [
    {
     "name": "stdout",
     "output_type": "stream",
     "text": [
      "('TRMGZHK12903D0A31E', 'Hip Hop Pantsula', 'Ancestors', 0, 282.77506)\n",
      "('TRMGZUS128F4262A57', 'The Aluminum Group', 'Headphones', 2008, 206.62812)\n",
      "('TRMGZAU12903CBAA65', 'Groove Generator', \"Let's do this\", 0, 197.27628)\n",
      "('TRMGZTZ128F930243B', 'Cricco Castelli', 'Desperate Situation', 0, 306.96444)\n",
      "('TRMGZXZ128F4288352', 'Johnny Hallyday', 'La Quête - Vieilles Charrues 2006', 0, 199.47057)\n",
      "('TRMGZDG128F425DB7B', 'Kilpi', 'Järjen Riemuvoitto', 2008, 298.65751)\n",
      "('TRMGZIU128F93024A3', 'Rey Ruiz', 'Vereda Tropical', 1996, 244.06159)\n",
      "('TRMGZUE128F427C14D', 'Vicente Amigo', 'Querido Metheny', 1995, 569.83465)\n",
      "('TRMGZQD12903CB7FD2', 'Charlie Parker', \"Bird's Nest\", 1993, 164.85832)\n",
      "('TRMGZMD128F1496EA1', 'Envoy', 'Elektra', 0, 434.75546)\n",
      "('TRMGZBO12903CB2735', 'Joyce Sims', '(I\\x19m Back) I Love You More', 0, 310.56934)\n",
      "('TRMGZTZ128F146EF17', 'Un pinguino en mi ascensor', 'Atrapados En El Ascensor', 1988, 198.89587)\n",
      "('TRMGZHA128F423E750', 'Dynamite Deluxe', 'So Laut Es Geht', 2008, 165.69424)\n",
      "('TRMGZSE128F429FAD7', 'Tampa Red', \"It's Good Like That\", 0, 155.03628)\n",
      "('TRMGZIP128F934A77A', 'Toxic Anger Syndrome', 'Zoosh', 0, 426.73587)\n"
     ]
    }
   ],
   "source": [
    "# Some sample data\n",
    "for k in range(3500, 3515):\n",
    "  print(list(selected_fields)[k])"
   ]
  },
  {
   "cell_type": "markdown",
   "metadata": {
    "colab_type": "text",
    "id": "ZPTw0hjhqgOc"
   },
   "source": [
    "### Generate pandas dataframe\n",
    "We create pandas dataframes of the data to make it easy to join with the other data sources later.\n"
   ]
  },
  {
   "cell_type": "code",
   "execution_count": null,
   "metadata": {
    "colab": {
     "base_uri": "https://localhost:8080/",
     "height": 419
    },
    "colab_type": "code",
    "id": "h285RvdsqumW",
    "outputId": "a129fff8-a6ec-4fff-a65e-4458cf43af82"
   },
   "outputs": [
    {
     "data": {
      "text/html": [
       "<div>\n",
       "<style scoped>\n",
       "    .dataframe tbody tr th:only-of-type {\n",
       "        vertical-align: middle;\n",
       "    }\n",
       "\n",
       "    .dataframe tbody tr th {\n",
       "        vertical-align: top;\n",
       "    }\n",
       "\n",
       "    .dataframe thead th {\n",
       "        text-align: right;\n",
       "    }\n",
       "</style>\n",
       "<table border=\"1\" class=\"dataframe\">\n",
       "  <thead>\n",
       "    <tr style=\"text-align: right;\">\n",
       "      <th></th>\n",
       "      <th>track_id</th>\n",
       "      <th>artist_name</th>\n",
       "      <th>title</th>\n",
       "      <th>year</th>\n",
       "      <th>duration</th>\n",
       "    </tr>\n",
       "  </thead>\n",
       "  <tbody>\n",
       "    <tr>\n",
       "      <th>0</th>\n",
       "      <td>TRMMMYQ128F932D901</td>\n",
       "      <td>Faster Pussy cat</td>\n",
       "      <td>Silent Night</td>\n",
       "      <td>2003</td>\n",
       "      <td>252.05506</td>\n",
       "    </tr>\n",
       "    <tr>\n",
       "      <th>1</th>\n",
       "      <td>TRMMMKD128F425225D</td>\n",
       "      <td>Karkkiautomaatti</td>\n",
       "      <td>Tanssi vaan</td>\n",
       "      <td>1995</td>\n",
       "      <td>156.55138</td>\n",
       "    </tr>\n",
       "    <tr>\n",
       "      <th>2</th>\n",
       "      <td>TRMMMRX128F93187D9</td>\n",
       "      <td>Hudson Mohawke</td>\n",
       "      <td>No One Could Ever</td>\n",
       "      <td>2006</td>\n",
       "      <td>138.97098</td>\n",
       "    </tr>\n",
       "    <tr>\n",
       "      <th>3</th>\n",
       "      <td>TRMMMCH128F425532C</td>\n",
       "      <td>Yerba Brava</td>\n",
       "      <td>Si Vos Querés</td>\n",
       "      <td>2003</td>\n",
       "      <td>145.05751</td>\n",
       "    </tr>\n",
       "    <tr>\n",
       "      <th>4</th>\n",
       "      <td>TRMMMWA128F426B589</td>\n",
       "      <td>Der Mystic</td>\n",
       "      <td>Tangle Of Aspens</td>\n",
       "      <td>0</td>\n",
       "      <td>514.29832</td>\n",
       "    </tr>\n",
       "    <tr>\n",
       "      <th>...</th>\n",
       "      <td>...</td>\n",
       "      <td>...</td>\n",
       "      <td>...</td>\n",
       "      <td>...</td>\n",
       "      <td>...</td>\n",
       "    </tr>\n",
       "    <tr>\n",
       "      <th>999995</th>\n",
       "      <td>TRYYYUS12903CD2DF0</td>\n",
       "      <td>Kiko Navarro</td>\n",
       "      <td>O Samba Da Vida</td>\n",
       "      <td>0</td>\n",
       "      <td>217.44281</td>\n",
       "    </tr>\n",
       "    <tr>\n",
       "      <th>999996</th>\n",
       "      <td>TRYYYJO128F426DA37</td>\n",
       "      <td>Kuldeep Manak</td>\n",
       "      <td>Jago Chhadeo</td>\n",
       "      <td>0</td>\n",
       "      <td>244.16608</td>\n",
       "    </tr>\n",
       "    <tr>\n",
       "      <th>999997</th>\n",
       "      <td>TRYYYMG128F4260ECA</td>\n",
       "      <td>Gabriel Le Mar</td>\n",
       "      <td>Novemba</td>\n",
       "      <td>0</td>\n",
       "      <td>553.03791</td>\n",
       "    </tr>\n",
       "    <tr>\n",
       "      <th>999998</th>\n",
       "      <td>TRYYYDJ128F9310A21</td>\n",
       "      <td>Elude</td>\n",
       "      <td>Faraday</td>\n",
       "      <td>0</td>\n",
       "      <td>484.51873</td>\n",
       "    </tr>\n",
       "    <tr>\n",
       "      <th>999999</th>\n",
       "      <td>TRYYYVU12903CD01E3</td>\n",
       "      <td>Texta</td>\n",
       "      <td>Fernweh feat. Sektion Kuchikäschtli</td>\n",
       "      <td>2004</td>\n",
       "      <td>295.07873</td>\n",
       "    </tr>\n",
       "  </tbody>\n",
       "</table>\n",
       "<p>1000000 rows × 5 columns</p>\n",
       "</div>"
      ],
      "text/plain": [
       "                  track_id       artist_name  ...  year   duration\n",
       "0       TRMMMYQ128F932D901  Faster Pussy cat  ...  2003  252.05506\n",
       "1       TRMMMKD128F425225D  Karkkiautomaatti  ...  1995  156.55138\n",
       "2       TRMMMRX128F93187D9    Hudson Mohawke  ...  2006  138.97098\n",
       "3       TRMMMCH128F425532C       Yerba Brava  ...  2003  145.05751\n",
       "4       TRMMMWA128F426B589        Der Mystic  ...     0  514.29832\n",
       "...                    ...               ...  ...   ...        ...\n",
       "999995  TRYYYUS12903CD2DF0      Kiko Navarro  ...     0  217.44281\n",
       "999996  TRYYYJO128F426DA37     Kuldeep Manak  ...     0  244.16608\n",
       "999997  TRYYYMG128F4260ECA    Gabriel Le Mar  ...     0  553.03791\n",
       "999998  TRYYYDJ128F9310A21             Elude  ...     0  484.51873\n",
       "999999  TRYYYVU12903CD01E3             Texta  ...  2004  295.07873\n",
       "\n",
       "[1000000 rows x 5 columns]"
      ]
     },
     "execution_count": 7,
     "metadata": {
      "tags": []
     },
     "output_type": "execute_result"
    }
   ],
   "source": [
    "msd_metadata_df = pd.DataFrame(selected_fields, columns=columns)\n",
    "msd_metadata_df"
   ]
  },
  {
   "cell_type": "markdown",
   "metadata": {
    "colab_type": "text",
    "id": "Tr3WPIfeS9Gj"
   },
   "source": [
    "## Retrieving a list of profane words\n",
    "We will use Facebook's list of bad words from [freewebheaders.com](https://www.freewebheaders.com/bad-words-list-and-page-moderation-words-list-for-facebook/)"
   ]
  },
  {
   "cell_type": "code",
   "execution_count": null,
   "metadata": {
    "colab": {
     "base_uri": "https://localhost:8080/",
     "height": 204
    },
    "colab_type": "code",
    "id": "PRQJNSz5TCEq",
    "outputId": "4ca35b8a-e94b-4775-be4e-3f9c32f6b58b"
   },
   "outputs": [
    {
     "name": "stdout",
     "output_type": "stream",
     "text": [
      "--2020-04-24 10:40:18--  https://www.freewebheaders.com/download/files/facebook-bad-words-list_comma-separated-text-file_2018_07_29.zip\n",
      "Resolving www.freewebheaders.com (www.freewebheaders.com)... 104.18.34.100, 104.18.35.100, 2606:4700:3036::6812:2364, ...\n",
      "Connecting to www.freewebheaders.com (www.freewebheaders.com)|104.18.34.100|:443... connected.\n",
      "HTTP request sent, awaiting response... 200 OK\n",
      "Length: 6310 (6.2K) [application/zip]\n",
      "Saving to: ‘facebook-bad-words-list_comma-separated-text-file_2018_07_29.zip’\n",
      "\n",
      "facebook-bad-words- 100%[===================>]   6.16K  --.-KB/s    in 0s      \n",
      "\n",
      "2020-04-24 10:40:19 (23.5 MB/s) - ‘facebook-bad-words-list_comma-separated-text-file_2018_07_29.zip’ saved [6310/6310]\n",
      "\n"
     ]
    }
   ],
   "source": [
    "!wget https://www.freewebheaders.com/download/files/facebook-bad-words-list_comma-separated-text-file_2018_07_29.zip"
   ]
  },
  {
   "cell_type": "code",
   "execution_count": null,
   "metadata": {
    "colab": {
     "base_uri": "https://localhost:8080/",
     "height": 51
    },
    "colab_type": "code",
    "id": "iBQnlIziTeAa",
    "outputId": "974e14e5-50ae-4680-edef-ee7f1e0dac8a"
   },
   "outputs": [
    {
     "name": "stdout",
     "output_type": "stream",
     "text": [
      "Archive:  /content/facebook-bad-words-list_comma-separated-text-file_2018_07_29.zip\n",
      "  inflating: facebook-bad-words-list_comma-separated-text-file_2018_07_29.txt  \n"
     ]
    }
   ],
   "source": [
    "!unzip '/content/facebook-bad-words-list_comma-separated-text-file_2018_07_29.zip'"
   ]
  },
  {
   "cell_type": "code",
   "execution_count": null,
   "metadata": {
    "colab": {
     "base_uri": "https://localhost:8080/",
     "height": 51
    },
    "colab_type": "code",
    "id": "Rz1g7sVpTk2v",
    "outputId": "93df80ce-e0d1-49ad-c551-92f3c6419cbf"
   },
   "outputs": [
    {
     "name": "stdout",
     "output_type": "stream",
     "text": [
      "1703\n"
     ]
    },
    {
     "data": {
      "text/plain": [
       "'fuck'"
      ]
     },
     "execution_count": 10,
     "metadata": {
      "tags": []
     },
     "output_type": "execute_result"
    }
   ],
   "source": [
    "with open('/content/facebook-bad-words-list_comma-separated-text-file_2018_07_29.txt', encoding=\"utf8\", errors=\"ignore\") as file:\n",
    "  profane_words = file.readlines()[-1].split(\", \")\n",
    "\n",
    "print(len(profane_words))\n",
    "profane_words[711]"
   ]
  },
  {
   "cell_type": "markdown",
   "metadata": {
    "colab_type": "text",
    "id": "EwHUcKk-QCX1"
   },
   "source": [
    "## Getting lyrics data for the million song dataset from musiXmatch\n",
    "Conveniently, the million song dataset team published an extension to the original dataset which includes [song lyric data from musiXmatch](http://millionsongdataset.com/musixmatch/). This allows for joining of lyrics data to the above extracted metadata as the same song identifiers are used in both datasets.\n",
    "\n",
    "See readme [here](https://github.com/tbertinmahieux/MSongsDB/tree/master/Tasks_Demos/Lyrics\n",
    ") for description of the musiXmatch database. It contains a table where each row is the number of occurences of a given word in a given song from the million song dataset.\n",
    "\n",
    "The goal is to generate a row per song which includes `song_id`, `number_of_words`, `number_of_profane_words`. Which can then be joined with the million song dataset file."
   ]
  },
  {
   "cell_type": "markdown",
   "metadata": {
    "colab_type": "text",
    "id": "aUh39WeNmC_Y"
   },
   "source": [
    "### Getting the data"
   ]
  },
  {
   "cell_type": "code",
   "execution_count": null,
   "metadata": {
    "colab": {
     "base_uri": "https://localhost:8080/",
     "height": 204
    },
    "colab_type": "code",
    "id": "ynj-Az4DQRUY",
    "outputId": "fda12079-9aee-4fda-a134-62eba548a451"
   },
   "outputs": [
    {
     "name": "stdout",
     "output_type": "stream",
     "text": [
      "--2020-04-24 10:40:24--  http://millionsongdataset.com/sites/default/files/AdditionalFiles/mxm_dataset.db\n",
      "Resolving millionsongdataset.com (millionsongdataset.com)... 173.231.209.32\n",
      "Connecting to millionsongdataset.com (millionsongdataset.com)|173.231.209.32|:80... connected.\n",
      "HTTP request sent, awaiting response... 200 OK\n",
      "Length: 2441556992 (2.3G)\n",
      "Saving to: ‘mxm_dataset.db’\n",
      "\n",
      "mxm_dataset.db      100%[===================>]   2.27G  15.6MB/s    in 2m 39s  \n",
      "\n",
      "2020-04-24 10:43:04 (14.6 MB/s) - ‘mxm_dataset.db’ saved [2441556992/2441556992]\n",
      "\n"
     ]
    }
   ],
   "source": [
    "!wget http://millionsongdataset.com/sites/default/files/AdditionalFiles/mxm_dataset.db"
   ]
  },
  {
   "cell_type": "code",
   "execution_count": null,
   "metadata": {
    "colab": {},
    "colab_type": "code",
    "id": "bXV2bHAeQ_tC"
   },
   "outputs": [],
   "source": [
    "conn = sqlite3.connect(\"/content/mxm_dataset.db\")\n",
    "\n"
   ]
  },
  {
   "cell_type": "markdown",
   "metadata": {
    "colab_type": "text",
    "id": "BktAQLAbi1Cp"
   },
   "source": [
    "### Counting profane words"
   ]
  },
  {
   "cell_type": "code",
   "execution_count": null,
   "metadata": {
    "colab": {
     "base_uri": "https://localhost:8080/",
     "height": 34
    },
    "colab_type": "code",
    "id": "ji_L8LtGVJUy",
    "outputId": "36f48c4e-6949-4aee-c320-0d056e187f70"
   },
   "outputs": [
    {
     "name": "stdout",
     "output_type": "stream",
     "text": [
      "found 237662 rows\n"
     ]
    }
   ],
   "source": [
    "# SQL query for summing up all profane words in a song\n",
    "query = f\"SELECT track_id, SUM(case when word IN {tuple(profane_words)} then count else 0 end) AS profane_count FROM lyrics GROUP BY track_id\"\n",
    "\n",
    "\n",
    "# query the database\n",
    "res = conn.execute(query)\n",
    "profane_count = res.fetchall()\n",
    "\n",
    "\n",
    "print(f\"found {len(profane_count)} rows\")"
   ]
  },
  {
   "cell_type": "code",
   "execution_count": null,
   "metadata": {
    "colab": {
     "base_uri": "https://localhost:8080/",
     "height": 187
    },
    "colab_type": "code",
    "id": "gXvX_Z5wW_K1",
    "outputId": "003b9f8a-b689-4652-9d25-5301601b547a"
   },
   "outputs": [
    {
     "data": {
      "text/plain": [
       "[('TRACSIR12903CE81A8', 0),\n",
       " ('TRACSJC128EF3432F8', 0),\n",
       " ('TRACSKH128F934020B', 8),\n",
       " ('TRACSNO128F424F331', 0),\n",
       " ('TRACSQN12903CDCB38', 0),\n",
       " ('TRACSSJ128F92E195B', 0),\n",
       " ('TRACSTF128F4238A87', 0),\n",
       " ('TRACSYZ12903CF3C93', 0),\n",
       " ('TRACTEB128F4264605', 1),\n",
       " ('TRACTGL128F425BEFC', 6)]"
      ]
     },
     "execution_count": 14,
     "metadata": {
      "tags": []
     },
     "output_type": "execute_result"
    }
   ],
   "source": [
    "profane_count[1020:1030] # Sample data"
   ]
  },
  {
   "cell_type": "code",
   "execution_count": null,
   "metadata": {
    "colab": {
     "base_uri": "https://localhost:8080/",
     "height": 85
    },
    "colab_type": "code",
    "id": "U05RolbCaXY_",
    "outputId": "7f4a4a06-1224-4781-ead8-abaff7b0ef13"
   },
   "outputs": [
    {
     "data": {
      "text/plain": [
       "[('TRACSKH128F934020B', 'god', 4),\n",
       " ('TRACSKH128F934020B', 'fuck', 2),\n",
       " ('TRACSKH128F934020B', 'kill', 1),\n",
       " ('TRACSKH128F934020B', 'murder', 1)]"
      ]
     },
     "execution_count": 15,
     "metadata": {
      "tags": []
     },
     "output_type": "execute_result"
    }
   ],
   "source": [
    "# Check a specific track to see that the aggregation is correct\n",
    "q = f\"SELECT track_id, word, count FROM lyrics WHERE word IN {tuple(profane_words)} AND track_id='TRACSKH128F934020B'\"\n",
    "res = conn.execute(q)\n",
    "profane_count_specific_song = res.fetchall()\n",
    "profane_count_specific_song"
   ]
  },
  {
   "cell_type": "markdown",
   "metadata": {
    "colab_type": "text",
    "id": "2l6M4sTTi6UQ"
   },
   "source": [
    "### Counting all words per song"
   ]
  },
  {
   "cell_type": "code",
   "execution_count": null,
   "metadata": {
    "colab": {
     "base_uri": "https://localhost:8080/",
     "height": 34
    },
    "colab_type": "code",
    "id": "kqvKdRFTcBo9",
    "outputId": "11933db6-4d88-4b1a-edea-3d4528fac07d"
   },
   "outputs": [
    {
     "name": "stdout",
     "output_type": "stream",
     "text": [
      "found 237662 rows\n"
     ]
    }
   ],
   "source": [
    "# SQL query for summing up all words in a song\n",
    "query = \"SELECT track_id, SUM(count) AS word_count FROM lyrics GROUP BY track_id\"\n",
    "\n",
    "\n",
    "# query the database\n",
    "res = conn.execute(query)\n",
    "word_count = res.fetchall()\n",
    "\n",
    "\n",
    "print(f\"found {len(word_count)} rows\")"
   ]
  },
  {
   "cell_type": "code",
   "execution_count": null,
   "metadata": {
    "colab": {
     "base_uri": "https://localhost:8080/",
     "height": 187
    },
    "colab_type": "code",
    "id": "xVEdCVQ-cnhC",
    "outputId": "1721eee8-7f0f-4e97-93e9-1788d69e1ce3"
   },
   "outputs": [
    {
     "data": {
      "text/plain": [
       "[('TRACSIR12903CE81A8', 296),\n",
       " ('TRACSJC128EF3432F8', 183),\n",
       " ('TRACSKH128F934020B', 243),\n",
       " ('TRACSNO128F424F331', 184),\n",
       " ('TRACSQN12903CDCB38', 149),\n",
       " ('TRACSSJ128F92E195B', 206),\n",
       " ('TRACSTF128F4238A87', 160),\n",
       " ('TRACSYZ12903CF3C93', 191),\n",
       " ('TRACTEB128F4264605', 54),\n",
       " ('TRACTGL128F425BEFC', 384)]"
      ]
     },
     "execution_count": 17,
     "metadata": {
      "tags": []
     },
     "output_type": "execute_result"
    }
   ],
   "source": [
    "word_count[1020:1030] # Sample data"
   ]
  },
  {
   "cell_type": "markdown",
   "metadata": {
    "colab_type": "text",
    "id": "6yfiNRnqi_ag"
   },
   "source": [
    "### Collecting word count and profane count in one query"
   ]
  },
  {
   "cell_type": "code",
   "execution_count": null,
   "metadata": {
    "colab": {
     "base_uri": "https://localhost:8080/",
     "height": 34
    },
    "colab_type": "code",
    "id": "MLojb7Yocr8v",
    "outputId": "6ba57759-8aaa-49e8-85f4-2e5a41d01e54"
   },
   "outputs": [
    {
     "name": "stdout",
     "output_type": "stream",
     "text": [
      "found 237662 rows\n"
     ]
    }
   ],
   "source": [
    "# SQL query combining the above queries into one.\n",
    "query = f\"SELECT track_id, SUM(count) AS word_count, SUM(case when word IN {tuple(profane_words)} then count else 0 end) AS profane_count\"\n",
    "query += \" FROM lyrics GROUP BY track_id\"\n",
    "\n",
    "\n",
    "# query the database\n",
    "res = conn.execute(query)\n",
    "word_profane_count = res.fetchall()\n",
    "\n",
    "\n",
    "print(f\"found {len(word_profane_count)} rows\")"
   ]
  },
  {
   "cell_type": "code",
   "execution_count": null,
   "metadata": {
    "colab": {
     "base_uri": "https://localhost:8080/",
     "height": 187
    },
    "colab_type": "code",
    "id": "wSZ_UgISigkn",
    "outputId": "d1b15078-c75e-40e9-ab6b-945dd77ab27d"
   },
   "outputs": [
    {
     "data": {
      "text/plain": [
       "[('TRACSIR12903CE81A8', 296, 0),\n",
       " ('TRACSJC128EF3432F8', 183, 0),\n",
       " ('TRACSKH128F934020B', 243, 8),\n",
       " ('TRACSNO128F424F331', 184, 0),\n",
       " ('TRACSQN12903CDCB38', 149, 0),\n",
       " ('TRACSSJ128F92E195B', 206, 0),\n",
       " ('TRACSTF128F4238A87', 160, 0),\n",
       " ('TRACSYZ12903CF3C93', 191, 0),\n",
       " ('TRACTEB128F4264605', 54, 1),\n",
       " ('TRACTGL128F425BEFC', 384, 6)]"
      ]
     },
     "execution_count": 19,
     "metadata": {
      "tags": []
     },
     "output_type": "execute_result"
    }
   ],
   "source": [
    "word_profane_count[1020:1030] # Sample data"
   ]
  },
  {
   "cell_type": "markdown",
   "metadata": {
    "colab_type": "text",
    "id": "z6wQ3wdWrZWL"
   },
   "source": [
    "### Generate pandas dataframe"
   ]
  },
  {
   "cell_type": "code",
   "execution_count": null,
   "metadata": {
    "colab": {
     "base_uri": "https://localhost:8080/",
     "height": 419
    },
    "colab_type": "code",
    "id": "OfAAhVyRrb70",
    "outputId": "d278fda6-5474-48cb-f052-1586f6108bdc"
   },
   "outputs": [
    {
     "data": {
      "text/html": [
       "<div>\n",
       "<style scoped>\n",
       "    .dataframe tbody tr th:only-of-type {\n",
       "        vertical-align: middle;\n",
       "    }\n",
       "\n",
       "    .dataframe tbody tr th {\n",
       "        vertical-align: top;\n",
       "    }\n",
       "\n",
       "    .dataframe thead th {\n",
       "        text-align: right;\n",
       "    }\n",
       "</style>\n",
       "<table border=\"1\" class=\"dataframe\">\n",
       "  <thead>\n",
       "    <tr style=\"text-align: right;\">\n",
       "      <th></th>\n",
       "      <th>track_id</th>\n",
       "      <th>word_count</th>\n",
       "      <th>profane_count</th>\n",
       "    </tr>\n",
       "  </thead>\n",
       "  <tbody>\n",
       "    <tr>\n",
       "      <th>0</th>\n",
       "      <td>TRAAAAV128F421A322</td>\n",
       "      <td>103</td>\n",
       "      <td>1</td>\n",
       "    </tr>\n",
       "    <tr>\n",
       "      <th>1</th>\n",
       "      <td>TRAAABD128F429CF47</td>\n",
       "      <td>226</td>\n",
       "      <td>0</td>\n",
       "    </tr>\n",
       "    <tr>\n",
       "      <th>2</th>\n",
       "      <td>TRAAAED128E0783FAB</td>\n",
       "      <td>421</td>\n",
       "      <td>0</td>\n",
       "    </tr>\n",
       "    <tr>\n",
       "      <th>3</th>\n",
       "      <td>TRAAAEF128F4273421</td>\n",
       "      <td>139</td>\n",
       "      <td>0</td>\n",
       "    </tr>\n",
       "    <tr>\n",
       "      <th>4</th>\n",
       "      <td>TRAAAEW128F42930C0</td>\n",
       "      <td>115</td>\n",
       "      <td>0</td>\n",
       "    </tr>\n",
       "    <tr>\n",
       "      <th>...</th>\n",
       "      <td>...</td>\n",
       "      <td>...</td>\n",
       "      <td>...</td>\n",
       "    </tr>\n",
       "    <tr>\n",
       "      <th>237657</th>\n",
       "      <td>TRZZZXA128F428ED56</td>\n",
       "      <td>163</td>\n",
       "      <td>3</td>\n",
       "    </tr>\n",
       "    <tr>\n",
       "      <th>237658</th>\n",
       "      <td>TRZZZXV128F4289747</td>\n",
       "      <td>207</td>\n",
       "      <td>0</td>\n",
       "    </tr>\n",
       "    <tr>\n",
       "      <th>237659</th>\n",
       "      <td>TRZZZYV128F92E996D</td>\n",
       "      <td>334</td>\n",
       "      <td>4</td>\n",
       "    </tr>\n",
       "    <tr>\n",
       "      <th>237660</th>\n",
       "      <td>TRZZZYX128F92D32C6</td>\n",
       "      <td>297</td>\n",
       "      <td>0</td>\n",
       "    </tr>\n",
       "    <tr>\n",
       "      <th>237661</th>\n",
       "      <td>TRZZZZD128F4236844</td>\n",
       "      <td>189</td>\n",
       "      <td>0</td>\n",
       "    </tr>\n",
       "  </tbody>\n",
       "</table>\n",
       "<p>237662 rows × 3 columns</p>\n",
       "</div>"
      ],
      "text/plain": [
       "                  track_id  word_count  profane_count\n",
       "0       TRAAAAV128F421A322         103              1\n",
       "1       TRAAABD128F429CF47         226              0\n",
       "2       TRAAAED128E0783FAB         421              0\n",
       "3       TRAAAEF128F4273421         139              0\n",
       "4       TRAAAEW128F42930C0         115              0\n",
       "...                    ...         ...            ...\n",
       "237657  TRZZZXA128F428ED56         163              3\n",
       "237658  TRZZZXV128F4289747         207              0\n",
       "237659  TRZZZYV128F92E996D         334              4\n",
       "237660  TRZZZYX128F92D32C6         297              0\n",
       "237661  TRZZZZD128F4236844         189              0\n",
       "\n",
       "[237662 rows x 3 columns]"
      ]
     },
     "execution_count": 23,
     "metadata": {
      "tags": []
     },
     "output_type": "execute_result"
    }
   ],
   "source": [
    "mxm_df = pd.DataFrame(word_profane_count, columns=['track_id', 'word_count', 'profane_count'])\n",
    "mxm_df"
   ]
  },
  {
   "cell_type": "markdown",
   "metadata": {
    "colab_type": "text",
    "id": "lOjsNQmNqu_E"
   },
   "source": [
    "## Retrieving genre data from the last.fm extension\n",
    "In order to retrieve genre data, we will be using the [last.fm extension](http://millionsongdataset.com/lastfm/) of the million song database. The extension includes \"tags\" from last.fm for specific songs, which among other things should include genre data. Again, this dataset uses the same song identifiers as the others above, allowing us to join genre data to the above datasets.\n",
    "\n",
    " In order to understand how to use the SQLite db, we had a look at [this demo](http://millionsongdataset.com/sites/default/files/lastfm/demo_tags_db.py)."
   ]
  },
  {
   "cell_type": "markdown",
   "metadata": {
    "colab_type": "text",
    "id": "3cRKGmISrxG-"
   },
   "source": [
    "### Downloading the data"
   ]
  },
  {
   "cell_type": "code",
   "execution_count": null,
   "metadata": {
    "colab": {
     "base_uri": "https://localhost:8080/",
     "height": 204
    },
    "colab_type": "code",
    "id": "LddPSL3Bq2mj",
    "outputId": "80424649-1048-45cc-a5db-c51dedc0dd96"
   },
   "outputs": [
    {
     "name": "stdout",
     "output_type": "stream",
     "text": [
      "--2020-04-24 10:48:48--  http://millionsongdataset.com/sites/default/files/lastfm/lastfm_tags.db\n",
      "Resolving millionsongdataset.com (millionsongdataset.com)... 173.231.209.32\n",
      "Connecting to millionsongdataset.com (millionsongdataset.com)|173.231.209.32|:80... connected.\n",
      "HTTP request sent, awaiting response... 200 OK\n",
      "Length: 594083840 (567M)\n",
      "Saving to: ‘lastfm_tags.db’\n",
      "\n",
      "lastfm_tags.db      100%[===================>] 566.56M  16.1MB/s    in 37s     \n",
      "\n",
      "2020-04-24 10:49:25 (15.2 MB/s) - ‘lastfm_tags.db’ saved [594083840/594083840]\n",
      "\n"
     ]
    }
   ],
   "source": [
    "!wget http://millionsongdataset.com/sites/default/files/lastfm/lastfm_tags.db"
   ]
  },
  {
   "cell_type": "code",
   "execution_count": null,
   "metadata": {
    "colab": {},
    "colab_type": "code",
    "id": "1OYk9cWwr1ja"
   },
   "outputs": [],
   "source": [
    "conn = sqlite3.connect(\"/content/lastfm_tags.db\")"
   ]
  },
  {
   "cell_type": "markdown",
   "metadata": {
    "colab_type": "text",
    "id": "FkOxwlOWlSqn"
   },
   "source": [
    "### Retrieve list of top 100 tags\n",
    "We will select the top 100 most popular tags to get a broad arrangement of genres to choose from in our analysis. The list of tags sorted by popularity can be found [here](http://millionsongdataset.com/sites/default/files/lastfm/lastfm_unique_tags.txt)."
   ]
  },
  {
   "cell_type": "code",
   "execution_count": null,
   "metadata": {
    "colab": {
     "base_uri": "https://localhost:8080/",
     "height": 204
    },
    "colab_type": "code",
    "id": "G6CgaeBblqpP",
    "outputId": "c9c6c23e-6de7-492e-fa7d-524cfc4950ea"
   },
   "outputs": [
    {
     "name": "stdout",
     "output_type": "stream",
     "text": [
      "--2020-04-24 10:49:27--  http://millionsongdataset.com/sites/default/files/lastfm/lastfm_unique_tags.txt\n",
      "Resolving millionsongdataset.com (millionsongdataset.com)... 173.231.209.32\n",
      "Connecting to millionsongdataset.com (millionsongdataset.com)|173.231.209.32|:80... connected.\n",
      "HTTP request sent, awaiting response... 200 OK\n",
      "Length: 10115638 (9.6M) [text/plain]\n",
      "Saving to: ‘lastfm_unique_tags.txt’\n",
      "\n",
      "lastfm_unique_tags. 100%[===================>]   9.65M  5.22MB/s    in 1.8s    \n",
      "\n",
      "2020-04-24 10:49:29 (5.22 MB/s) - ‘lastfm_unique_tags.txt’ saved [10115638/10115638]\n",
      "\n"
     ]
    }
   ],
   "source": [
    "!wget http://millionsongdataset.com/sites/default/files/lastfm/lastfm_unique_tags.txt"
   ]
  },
  {
   "cell_type": "code",
   "execution_count": null,
   "metadata": {
    "colab": {
     "base_uri": "https://localhost:8080/",
     "height": 187
    },
    "colab_type": "code",
    "id": "S8lE9d5dlz81",
    "outputId": "a79550b8-7822-4741-9a1c-1344c7bc829e"
   },
   "outputs": [
    {
     "data": {
      "text/plain": [
       "['rock',\n",
       " 'pop',\n",
       " 'alternative',\n",
       " 'indie',\n",
       " 'electronic',\n",
       " 'female vocalists',\n",
       " 'favorites',\n",
       " 'Love',\n",
       " 'dance',\n",
       " '00s']"
      ]
     },
     "execution_count": 27,
     "metadata": {
      "tags": []
     },
     "output_type": "execute_result"
    }
   ],
   "source": [
    "with open('/content/lastfm_unique_tags.txt') as file:\n",
    "  genres = file.readlines()[0:100]\n",
    "\n",
    "genres = list(map(lambda item: item.split('\\t')[0], genres))\n",
    "\n",
    "genres[:10]\n"
   ]
  },
  {
   "cell_type": "markdown",
   "metadata": {
    "colab_type": "text",
    "id": "m77wS5pC90x2"
   },
   "source": [
    "### Retrieving songs and correlated tags"
   ]
  },
  {
   "cell_type": "code",
   "execution_count": null,
   "metadata": {
    "colab": {
     "base_uri": "https://localhost:8080/",
     "height": 136
    },
    "colab_type": "code",
    "id": "M47bFjhEsHoA",
    "outputId": "3cb9c35c-9b03-4ed1-ecf6-6aaae827075f"
   },
   "outputs": [
    {
     "data": {
      "text/plain": [
       "[('table', 'tags', 'tags', 2, 'CREATE TABLE tags (tag TEXT)'),\n",
       " ('table', 'tids', 'tids', 3, 'CREATE TABLE tids (tid TEXT)'),\n",
       " ('table',\n",
       "  'tid_tag',\n",
       "  'tid_tag',\n",
       "  4,\n",
       "  'CREATE TABLE tid_tag (tid INT, tag INT, val FLOAT)')]"
      ]
     },
     "execution_count": 28,
     "metadata": {
      "tags": []
     },
     "output_type": "execute_result"
    }
   ],
   "source": [
    "# Get an understanding of the db tables and columns\n",
    "res = conn.execute(\"SELECT * FROM sqlite_master WHERE type='table'\")\n",
    "res.fetchall()"
   ]
  },
  {
   "cell_type": "code",
   "execution_count": null,
   "metadata": {
    "colab": {},
    "colab_type": "code",
    "id": "-Nb9dP6MuFFQ"
   },
   "outputs": [],
   "source": [
    "res = conn.execute(f\"SELECT tids.tid, tags.tag FROM tid_tag, tags, tids WHERE tags.ROWID=tid_tag.tag AND tids.ROWID=tid_tag.tid and tags.tag IN {tuple(genres)}\")\n",
    "tracks_with_tags = res.fetchall()"
   ]
  },
  {
   "cell_type": "code",
   "execution_count": null,
   "metadata": {
    "colab": {
     "base_uri": "https://localhost:8080/",
     "height": 34
    },
    "colab_type": "code",
    "id": "j574-tbfwk8O",
    "outputId": "aeda0d62-5ea9-4a2d-ad30-b87ec74f4353"
   },
   "outputs": [
    {
     "data": {
      "text/plain": [
       "1929985"
      ]
     },
     "execution_count": 30,
     "metadata": {
      "tags": []
     },
     "output_type": "execute_result"
    }
   ],
   "source": [
    "len(tracks_with_tags)"
   ]
  },
  {
   "cell_type": "code",
   "execution_count": null,
   "metadata": {
    "colab": {
     "base_uri": "https://localhost:8080/",
     "height": 102
    },
    "colab_type": "code",
    "id": "fgDl7vpZwwYo",
    "outputId": "5498d9eb-a61f-4813-bb18-2da2c1602e61"
   },
   "outputs": [
    {
     "data": {
      "text/plain": [
       "[('TRBFUMI128F42B5731', '60s'),\n",
       " ('TRNAGPR12903CDF6F6', '60s'),\n",
       " ('TRSMWMH128F145A86B', '60s'),\n",
       " ('TRSRYGJ128EF345FFD', '60s'),\n",
       " ('TRSSKLW128F92EF99C', '60s')]"
      ]
     },
     "execution_count": 31,
     "metadata": {
      "tags": []
     },
     "output_type": "execute_result"
    }
   ],
   "source": [
    "tracks_with_tags[50000:50005]"
   ]
  },
  {
   "cell_type": "markdown",
   "metadata": {
    "colab_type": "text",
    "id": "7d63sJiarwcb"
   },
   "source": [
    "### Generate pandas dataframe"
   ]
  },
  {
   "cell_type": "code",
   "execution_count": null,
   "metadata": {
    "colab": {
     "base_uri": "https://localhost:8080/",
     "height": 204
    },
    "colab_type": "code",
    "id": "jVfFA6bKwy1h",
    "outputId": "ac06f590-6e1f-4f34-9880-851425b0de9f"
   },
   "outputs": [
    {
     "data": {
      "text/html": [
       "<div>\n",
       "<style scoped>\n",
       "    .dataframe tbody tr th:only-of-type {\n",
       "        vertical-align: middle;\n",
       "    }\n",
       "\n",
       "    .dataframe tbody tr th {\n",
       "        vertical-align: top;\n",
       "    }\n",
       "\n",
       "    .dataframe thead th {\n",
       "        text-align: right;\n",
       "    }\n",
       "</style>\n",
       "<table border=\"1\" class=\"dataframe\">\n",
       "  <thead>\n",
       "    <tr style=\"text-align: right;\">\n",
       "      <th></th>\n",
       "      <th>track_id</th>\n",
       "      <th>genre</th>\n",
       "    </tr>\n",
       "  </thead>\n",
       "  <tbody>\n",
       "    <tr>\n",
       "      <th>0</th>\n",
       "      <td>TRCJLLZ128F93239CA</td>\n",
       "      <td>00s</td>\n",
       "    </tr>\n",
       "    <tr>\n",
       "      <th>1</th>\n",
       "      <td>TRCIIUA128F93652FB</td>\n",
       "      <td>00s</td>\n",
       "    </tr>\n",
       "    <tr>\n",
       "      <th>2</th>\n",
       "      <td>TRCODME128F930F717</td>\n",
       "      <td>00s</td>\n",
       "    </tr>\n",
       "    <tr>\n",
       "      <th>3</th>\n",
       "      <td>TRCOTZQ128F42AE3C0</td>\n",
       "      <td>00s</td>\n",
       "    </tr>\n",
       "    <tr>\n",
       "      <th>4</th>\n",
       "      <td>TRCRLFH128F9348F4B</td>\n",
       "      <td>00s</td>\n",
       "    </tr>\n",
       "  </tbody>\n",
       "</table>\n",
       "</div>"
      ],
      "text/plain": [
       "             track_id genre\n",
       "0  TRCJLLZ128F93239CA   00s\n",
       "1  TRCIIUA128F93652FB   00s\n",
       "2  TRCODME128F930F717   00s\n",
       "3  TRCOTZQ128F42AE3C0   00s\n",
       "4  TRCRLFH128F9348F4B   00s"
      ]
     },
     "execution_count": 32,
     "metadata": {
      "tags": []
     },
     "output_type": "execute_result"
    }
   ],
   "source": [
    "lastfm_df = pd.DataFrame(tracks_with_tags, columns=['track_id', 'genre'])\n",
    "lastfm_df.head()"
   ]
  },
  {
   "cell_type": "markdown",
   "metadata": {
    "colab_type": "text",
    "id": "-UdG-r7L1GWM"
   },
   "source": [
    "## Joining it all together\n",
    "Now lets join all the dataframes together to one big nice dataframe. We will be using inner joins so that we retain only the songs for which we have metadata, lyrics data and genre data."
   ]
  },
  {
   "cell_type": "code",
   "execution_count": null,
   "metadata": {
    "colab": {},
    "colab_type": "code",
    "id": "X1ODJ5qLyeqh"
   },
   "outputs": [],
   "source": [
    "metadata_lyrics = msd_metadata_df.join(mxm_df.set_index('track_id'), on='track_id', how=\"inner\")\n",
    "full_df = metadata_lyrics.join(lastfm_df.set_index('track_id'), on=\"track_id\", how=\"inner\")\n"
   ]
  },
  {
   "cell_type": "code",
   "execution_count": null,
   "metadata": {
    "colab": {
     "base_uri": "https://localhost:8080/",
     "height": 419
    },
    "colab_type": "code",
    "id": "Li6DMHL-zDMM",
    "outputId": "0112398b-69d8-4c8a-abdc-ffb6b41a7616"
   },
   "outputs": [
    {
     "data": {
      "text/html": [
       "<div>\n",
       "<style scoped>\n",
       "    .dataframe tbody tr th:only-of-type {\n",
       "        vertical-align: middle;\n",
       "    }\n",
       "\n",
       "    .dataframe tbody tr th {\n",
       "        vertical-align: top;\n",
       "    }\n",
       "\n",
       "    .dataframe thead th {\n",
       "        text-align: right;\n",
       "    }\n",
       "</style>\n",
       "<table border=\"1\" class=\"dataframe\">\n",
       "  <thead>\n",
       "    <tr style=\"text-align: right;\">\n",
       "      <th></th>\n",
       "      <th>track_id</th>\n",
       "      <th>artist_name</th>\n",
       "      <th>title</th>\n",
       "      <th>year</th>\n",
       "      <th>duration</th>\n",
       "      <th>word_count</th>\n",
       "      <th>profane_count</th>\n",
       "      <th>genre</th>\n",
       "    </tr>\n",
       "  </thead>\n",
       "  <tbody>\n",
       "    <tr>\n",
       "      <th>15</th>\n",
       "      <td>TRMMMKI128F931D80D</td>\n",
       "      <td>Lena Philipsson</td>\n",
       "      <td>006</td>\n",
       "      <td>1998</td>\n",
       "      <td>262.26893</td>\n",
       "      <td>246</td>\n",
       "      <td>0</td>\n",
       "      <td>pop</td>\n",
       "    </tr>\n",
       "    <tr>\n",
       "      <th>16</th>\n",
       "      <td>TRMMMUT128F42646E8</td>\n",
       "      <td>Shawn Colvin</td>\n",
       "      <td>(Looking For) The Heart Of Saturday</td>\n",
       "      <td>1994</td>\n",
       "      <td>216.47628</td>\n",
       "      <td>328</td>\n",
       "      <td>2</td>\n",
       "      <td>cover</td>\n",
       "    </tr>\n",
       "    <tr>\n",
       "      <th>17</th>\n",
       "      <td>TRMMMQY128F92F0EA3</td>\n",
       "      <td>Dying Fetus</td>\n",
       "      <td>Ethos of Coercion</td>\n",
       "      <td>2009</td>\n",
       "      <td>196.02240</td>\n",
       "      <td>78</td>\n",
       "      <td>0</td>\n",
       "      <td>death metal</td>\n",
       "    </tr>\n",
       "    <tr>\n",
       "      <th>17</th>\n",
       "      <td>TRMMMQY128F92F0EA3</td>\n",
       "      <td>Dying Fetus</td>\n",
       "      <td>Ethos of Coercion</td>\n",
       "      <td>2009</td>\n",
       "      <td>196.02240</td>\n",
       "      <td>78</td>\n",
       "      <td>0</td>\n",
       "      <td>metal</td>\n",
       "    </tr>\n",
       "    <tr>\n",
       "      <th>18</th>\n",
       "      <td>TRMMMTK128F424EF7C</td>\n",
       "      <td>Emery</td>\n",
       "      <td>Rock-N-Rule</td>\n",
       "      <td>2007</td>\n",
       "      <td>217.57342</td>\n",
       "      <td>246</td>\n",
       "      <td>1</td>\n",
       "      <td>00s</td>\n",
       "    </tr>\n",
       "    <tr>\n",
       "      <th>...</th>\n",
       "      <td>...</td>\n",
       "      <td>...</td>\n",
       "      <td>...</td>\n",
       "      <td>...</td>\n",
       "      <td>...</td>\n",
       "      <td>...</td>\n",
       "      <td>...</td>\n",
       "      <td>...</td>\n",
       "    </tr>\n",
       "    <tr>\n",
       "      <th>999964</th>\n",
       "      <td>TRYYYCH128F149840B</td>\n",
       "      <td>Something Corporate</td>\n",
       "      <td>If You C Jordan</td>\n",
       "      <td>2001</td>\n",
       "      <td>258.66404</td>\n",
       "      <td>259</td>\n",
       "      <td>0</td>\n",
       "      <td>seen live</td>\n",
       "    </tr>\n",
       "    <tr>\n",
       "      <th>999979</th>\n",
       "      <td>TRYYYFV128F4277D53</td>\n",
       "      <td>Starflyer 59</td>\n",
       "      <td>Too Much Fun</td>\n",
       "      <td>1998</td>\n",
       "      <td>462.26240</td>\n",
       "      <td>53</td>\n",
       "      <td>0</td>\n",
       "      <td>alternative rock</td>\n",
       "    </tr>\n",
       "    <tr>\n",
       "      <th>999980</th>\n",
       "      <td>TRYYYWS128EF34A1FF</td>\n",
       "      <td>Stevie Wonder</td>\n",
       "      <td>Think Of Me As Your Soldier</td>\n",
       "      <td>1971</td>\n",
       "      <td>219.14077</td>\n",
       "      <td>165</td>\n",
       "      <td>0</td>\n",
       "      <td>soul</td>\n",
       "    </tr>\n",
       "    <tr>\n",
       "      <th>999992</th>\n",
       "      <td>TRYYYZM128F428E804</td>\n",
       "      <td>SKYCLAD</td>\n",
       "      <td>Inequality Street</td>\n",
       "      <td>1996</td>\n",
       "      <td>241.21424</td>\n",
       "      <td>345</td>\n",
       "      <td>2</td>\n",
       "      <td>folk</td>\n",
       "    </tr>\n",
       "    <tr>\n",
       "      <th>999992</th>\n",
       "      <td>TRYYYZM128F428E804</td>\n",
       "      <td>SKYCLAD</td>\n",
       "      <td>Inequality Street</td>\n",
       "      <td>1996</td>\n",
       "      <td>241.21424</td>\n",
       "      <td>345</td>\n",
       "      <td>2</td>\n",
       "      <td>metal</td>\n",
       "    </tr>\n",
       "  </tbody>\n",
       "</table>\n",
       "<p>905593 rows × 8 columns</p>\n",
       "</div>"
      ],
      "text/plain": [
       "                  track_id  ...             genre\n",
       "15      TRMMMKI128F931D80D  ...               pop\n",
       "16      TRMMMUT128F42646E8  ...             cover\n",
       "17      TRMMMQY128F92F0EA3  ...       death metal\n",
       "17      TRMMMQY128F92F0EA3  ...             metal\n",
       "18      TRMMMTK128F424EF7C  ...               00s\n",
       "...                    ...  ...               ...\n",
       "999964  TRYYYCH128F149840B  ...         seen live\n",
       "999979  TRYYYFV128F4277D53  ...  alternative rock\n",
       "999980  TRYYYWS128EF34A1FF  ...              soul\n",
       "999992  TRYYYZM128F428E804  ...              folk\n",
       "999992  TRYYYZM128F428E804  ...             metal\n",
       "\n",
       "[905593 rows x 8 columns]"
      ]
     },
     "execution_count": 34,
     "metadata": {
      "tags": []
     },
     "output_type": "execute_result"
    }
   ],
   "source": [
    "full_df"
   ]
  },
  {
   "cell_type": "code",
   "execution_count": null,
   "metadata": {
    "colab": {
     "base_uri": "https://localhost:8080/",
     "height": 34
    },
    "colab_type": "code",
    "id": "Bl_cGba-0Rlg",
    "outputId": "285050f3-056a-4326-8bab-2775ed8d3f1a"
   },
   "outputs": [
    {
     "data": {
      "text/plain": [
       "143847"
      ]
     },
     "execution_count": 35,
     "metadata": {
      "tags": []
     },
     "output_type": "execute_result"
    }
   ],
   "source": [
    "len(full_df[\"track_id\"].unique())"
   ]
  },
  {
   "cell_type": "code",
   "execution_count": null,
   "metadata": {
    "colab": {
     "base_uri": "https://localhost:8080/",
     "height": 153
    },
    "colab_type": "code",
    "id": "rY2OnBqB1iGu",
    "outputId": "b5ab0a35-b8d3-4c89-fcd9-475dafbd08a2"
   },
   "outputs": [
    {
     "data": {
      "text/plain": [
       "['track_id',\n",
       " 'artist_name',\n",
       " 'title',\n",
       " 'year',\n",
       " 'duration',\n",
       " 'word_count',\n",
       " 'profane_count',\n",
       " 'genre']"
      ]
     },
     "execution_count": 36,
     "metadata": {
      "tags": []
     },
     "output_type": "execute_result"
    }
   ],
   "source": [
    "list(full_df.columns)"
   ]
  },
  {
   "cell_type": "markdown",
   "metadata": {
    "colab_type": "text",
    "id": "GEtuA9IV1WGr"
   },
   "source": [
    "### Write data to csv\n",
    "We finish off by writing the complete dataset to csv in order to export it to Tableau for analysis."
   ]
  },
  {
   "cell_type": "code",
   "execution_count": null,
   "metadata": {
    "colab": {},
    "colab_type": "code",
    "id": "tL8megxx0cpc"
   },
   "outputs": [],
   "source": [
    "full_df.to_csv(\"msd_full.csv\", index=False)"
   ]
  },
  {
   "cell_type": "markdown",
   "metadata": {
    "colab_type": "text",
    "id": "d0M5lHwYF8Ve"
   },
   "source": [
    "# Appendix\n",
    "Here we saved some code we made that eventually became redundant/unnecessary."
   ]
  },
  {
   "cell_type": "code",
   "execution_count": null,
   "metadata": {
    "colab": {},
    "colab_type": "code",
    "id": "wpyjfPKTIwLW"
   },
   "outputs": [],
   "source": [
    "def write_data_to_csv(filename, columns, data, separator=\",\"):\n",
    "'''\n",
    "  export data to csv-file.\n",
    "\n",
    "  filename: string filename - file will be overwritten\n",
    "  columns: list of strings, names of the columns\n",
    "  data: list of data, each item in the list should be one row\n",
    "  separator: optional string that should be used as separator\n",
    "'''\n",
    "\n",
    "  with open(filename, \"w\") as write_file:\n",
    "      write_file.write(separator.join(columns) +'\\n')\n",
    "      for row in data:\n",
    "          writeRow = separator.join([str(i) for i in row]) + \"\\n\"\n",
    "          write_file.write(writeRow)"
   ]
  }
 ],
 "metadata": {
  "colab": {
   "collapsed_sections": [
    "aUh39WeNmC_Y",
    "BktAQLAbi1Cp",
    "2l6M4sTTi6UQ",
    "6yfiNRnqi_ag"
   ],
   "name": "DS10 final project - Team Dazed and Confuzed.ipynb",
   "provenance": [],
   "toc_visible": true
  },
  "kernelspec": {
   "display_name": "Python 3",
   "language": "python",
   "name": "python3"
  },
  "language_info": {
   "codemirror_mode": {
    "name": "ipython",
    "version": 3
   },
   "file_extension": ".py",
   "mimetype": "text/x-python",
   "name": "python",
   "nbconvert_exporter": "python",
   "pygments_lexer": "ipython3",
   "version": "3.7.0"
  }
 },
 "nbformat": 4,
 "nbformat_minor": 1
}
